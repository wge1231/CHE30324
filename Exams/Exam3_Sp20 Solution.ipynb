{
  "nbformat": 4,
  "nbformat_minor": 0,
  "metadata": {
    "anaconda-cloud": {},
    "kernelspec": {
      "display_name": "Python 3",
      "language": "python",
      "name": "python3"
    },
    "language_info": {
      "codemirror_mode": {
        "name": "ipython",
        "version": 3
      },
      "file_extension": ".py",
      "mimetype": "text/x-python",
      "name": "python",
      "nbconvert_exporter": "python",
      "pygments_lexer": "ipython3",
      "version": "3.7.4"
    },
    "colab": {
      "name": "Copy of Exam3-Sp20.ipynb",
      "provenance": [],
      "collapsed_sections": []
    }
  },
  "cells": [
    {
      "cell_type": "markdown",
      "metadata": {
        "id": "_MW1D0a8ea5N",
        "colab_type": "text"
      },
      "source": [
        "# Chem 30324, Spring 2020, Exam 3\n"
      ]
    },
    {
      "cell_type": "markdown",
      "metadata": {
        "id": "9gECGLGyea5P",
        "colab_type": "text"
      },
      "source": [
        "## April 14, 2020, 9 am EDT to 9 pm EDT"
      ]
    },
    {
      "cell_type": "markdown",
      "metadata": {
        "id": "OqqV4R7Nea5T",
        "colab_type": "text"
      },
      "source": [
        "### You have 12 hours to complete this exam.  You may refer to the extended outline available on the course website, to the HW 7, HW 8, and HW 9 solutions, and your two pages of written notes, which you must turn in with your solution.  When you are done, create a pdf and upload to Gradescope, as you have done with your homeworks."
      ]
    },
    {
      "cell_type": "markdown",
      "metadata": {
        "id": "UyQ44o0iea5V",
        "colab_type": "text"
      },
      "source": [
        "## Your Name: "
      ]
    },
    {
      "cell_type": "markdown",
      "metadata": {
        "id": "v3IWZPvCea5W",
        "colab_type": "text"
      },
      "source": [
        "## 1. Quantum atoms (15 pts)\n",
        "Quantum mechanics helps us explain periodic trends in the properties of atoms.  Consider the halogens, group 7:  F, Cl, Br, I."
      ]
    },
    {
      "cell_type": "markdown",
      "metadata": {
        "id": "FXSfSLSUea5X",
        "colab_type": "text"
      },
      "source": [
        "1.1  (3 pts) What do you expect for the spin multiplicity of each atom?"
      ]
    },
    {
      "cell_type": "markdown",
      "metadata": {
        "id": "MqlN-YXvkqhY",
        "colab_type": "text"
      },
      "source": [
        "$ F: 1s^2 2s^2 2p^5$ , spin mulfiplicity: 2, doublets\n",
        "\n",
        "$ Cl: 1s^2 2s^2 2p^6 3s^2 3p^5$ , spin mulfiplicity: 2, doublets\n",
        "\n",
        "$ Br: 1s^2 2s^2 2p^6 3s^2 3p^6 3d^{10} 4s^2 4p^5 $ , spin mulfiplicity: 2, doublets\n",
        "\n",
        "$ I: 1s^2 2s^2 2p^6 3s^2 3p^6 3d^{10} 4s^2 4p^6 4d^{10} 5s^2 5p^5$ , spin mulfiplicity: 2, doublets\n"
      ]
    },
    {
      "cell_type": "markdown",
      "metadata": {
        "id": "eHg2Fuw6ea5Y",
        "colab_type": "text"
      },
      "source": [
        "1.2 (3 pts) Rank the atoms in terms of their first ionization energy (i.e.,minimum energy to remove a valence electron)."
      ]
    },
    {
      "cell_type": "code",
      "metadata": {
        "id": "zbKd5MDhmALw",
        "colab_type": "code",
        "outputId": "8ec1d219-babc-46f5-d86c-98f98313cdb8",
        "colab": {
          "base_uri": "https://localhost:8080/",
          "height": 34
        }
      },
      "source": [
        "print('I<Br<Cl<F')"
      ],
      "execution_count": 5,
      "outputs": [
        {
          "output_type": "stream",
          "text": [
            "I<Br<Cl<F\n"
          ],
          "name": "stdout"
        }
      ]
    },
    {
      "cell_type": "markdown",
      "metadata": {
        "id": "JXeXQ04xea5Z",
        "colab_type": "text"
      },
      "source": [
        "1.3 (3 pts) Rank the atoms in terms of the frequency of light ($h\\nu$) necessary to eject a 1s electron from them."
      ]
    },
    {
      "cell_type": "code",
      "metadata": {
        "id": "Yrf0iVjLmJmr",
        "colab_type": "code",
        "outputId": "171de88e-8f3a-4bcb-9abb-3d82a0e68394",
        "colab": {
          "base_uri": "https://localhost:8080/",
          "height": 34
        }
      },
      "source": [
        "print('F<Cl<Br<I')"
      ],
      "execution_count": 6,
      "outputs": [
        {
          "output_type": "stream",
          "text": [
            "F<Cl<Br<I\n"
          ],
          "name": "stdout"
        }
      ]
    },
    {
      "cell_type": "markdown",
      "metadata": {
        "id": "LuL51tfxea5a",
        "colab_type": "text"
      },
      "source": [
        "1.4 (3 pts) All the halogens exist as dimers in their elemental state (F$_2$, Cl$_2$, ...). Rank the dimeric elements according to increasing boiling point."
      ]
    },
    {
      "cell_type": "code",
      "metadata": {
        "id": "sDw4u-47mjA7",
        "colab_type": "code",
        "outputId": "ddbbae91-7991-4eb8-d0ba-90b01347ba20",
        "colab": {
          "base_uri": "https://localhost:8080/",
          "height": 34
        }
      },
      "source": [
        "print('Boiling point: F2<Cl2<Br2<I2')"
      ],
      "execution_count": 7,
      "outputs": [
        {
          "output_type": "stream",
          "text": [
            "Boiling point: F2<Cl2<Br2<I2\n"
          ],
          "name": "stdout"
        }
      ]
    },
    {
      "cell_type": "markdown",
      "metadata": {
        "id": "esfRy24_ea5a",
        "colab_type": "text"
      },
      "source": [
        "1.5 (3 pts) The halogen dimers all have a bond order of 1.  Do they all have the same bond energy?  If not, which do you think will have the strongest bond?"
      ]
    },
    {
      "cell_type": "code",
      "metadata": {
        "id": "fxuf7FsHmqOy",
        "colab_type": "code",
        "outputId": "89457d7b-976c-4da2-cf16-eb378838ebd5",
        "colab": {
          "base_uri": "https://localhost:8080/",
          "height": 34
        }
      },
      "source": [
        "print('No. Thye have different bond energies. I think the Cl2 will have the strongest bond.')"
      ],
      "execution_count": 1,
      "outputs": [
        {
          "output_type": "stream",
          "text": [
            "No. Thye have different bond energies. I think the Cl2 will have the strongest bond.\n"
          ],
          "name": "stdout"
        }
      ]
    },
    {
      "cell_type": "markdown",
      "metadata": {
        "id": "ThEUOyWaea5b",
        "colab_type": "text"
      },
      "source": [
        "## 2.Tunneling will bring us together (53 pts)"
      ]
    },
    {
      "cell_type": "markdown",
      "metadata": {
        "id": "K7LW9tSpea5c",
        "colab_type": "text"
      },
      "source": [
        "Applications of the Schrödinger equation to molecules is complicated by the many interactions between electrons and nuclei.  Here we'll look at the simplest possible case, H$_2$."
      ]
    },
    {
      "cell_type": "markdown",
      "metadata": {
        "id": "h--aAgUNea5d",
        "colab_type": "text"
      },
      "source": [
        "2.1 (2 pts) How many of what types of particles make up an H$_2$ molecule?"
      ]
    },
    {
      "cell_type": "code",
      "metadata": {
        "id": "GCOusx1Hm5zm",
        "colab_type": "code",
        "outputId": "4d2f1c4e-ce22-4419-8378-39c9b41f7fb3",
        "colab": {
          "base_uri": "https://localhost:8080/",
          "height": 34
        }
      },
      "source": [
        "print('Two nucleis and two electrons make up an H2 molecule')"
      ],
      "execution_count": 2,
      "outputs": [
        {
          "output_type": "stream",
          "text": [
            "Two nucleis and two electrons make up an H2 molecule\n"
          ],
          "name": "stdout"
        }
      ]
    },
    {
      "cell_type": "markdown",
      "metadata": {
        "id": "9Hfbd9HTea5e",
        "colab_type": "text"
      },
      "source": [
        "2.2 (4 pts) In describing the molecule quantum mechanically, we commonly make the \"Born-Oppenheimer\" approximation? What is that approximation?"
      ]
    },
    {
      "cell_type": "code",
      "metadata": {
        "id": "LkguHTCRnEot",
        "colab_type": "code",
        "outputId": "e0b05fde-cd73-44ee-a0f4-1ab49c5edd5f",
        "colab": {
          "base_uri": "https://localhost:8080/",
          "height": 34
        }
      },
      "source": [
        "print('Born–Oppenheimer (BO) approximation is the assumption that the motion of atomic nuclei and electrons in a molecule can be treated separately. ')"
      ],
      "execution_count": 3,
      "outputs": [
        {
          "output_type": "stream",
          "text": [
            "Born–Oppenheimer (BO) approximation is the assumption that the motion of atomic nuclei and electrons in a molecule can be treated separately. \n"
          ],
          "name": "stdout"
        }
      ]
    },
    {
      "cell_type": "markdown",
      "metadata": {
        "id": "Qya3wAecea5h",
        "colab_type": "text"
      },
      "source": [
        "2.3 The standard strategy is to describe the molecule in terms of individual electron wavefunctions, often called \"orbitals.\" The equation for the electron wavefunctions of H$_2$ (in atomic units) is shown below.  **Briefly identify the meaning of each term as well as the sign (positive or negative) of the contribution to the H$_2$energy.**\n",
        "\n",
        "$$ \\left \\{-\\frac{1}{2}\\nabla^2 -\\frac{1}{|\\mathbf{r}-\\mathbf{R}_A|} -\\frac{1}{|\\mathbf{r}-\\mathbf{R}_B|}+\\hat{v}_\\text{Coulomb} + \\hat{v}_\\text{exchange} +\\hat{v}_\\text{correlation}\\right \\} \\psi_i = \\epsilon_i\\psi_i$$"
      ]
    },
    {
      "cell_type": "markdown",
      "metadata": {
        "id": "kD8PtqTrea5i",
        "colab_type": "text"
      },
      "source": [
        "2.3.1 (3 pts) $$-\\frac{1}{2}\\nabla^2$$"
      ]
    },
    {
      "cell_type": "code",
      "metadata": {
        "id": "HCegUECvnk8W",
        "colab_type": "code",
        "colab": {
          "base_uri": "https://localhost:8080/",
          "height": 34
        },
        "outputId": "dc103389-fe7f-456f-dae6-5181dc67bb51"
      },
      "source": [
        "print('Kinetic energy. Always positive.')"
      ],
      "execution_count": 4,
      "outputs": [
        {
          "output_type": "stream",
          "text": [
            "Kinetic energy. Always positive.\n"
          ],
          "name": "stdout"
        }
      ]
    },
    {
      "cell_type": "markdown",
      "metadata": {
        "id": "M7_kyE42ea5j",
        "colab_type": "text"
      },
      "source": [
        "2.3.2 (3 pts)$$-\\frac{1}{|\\mathbf{r}-\\mathbf{R}_A|} -\\frac{1}{|\\mathbf{r}-\\mathbf{R}_B|}$$"
      ]
    },
    {
      "cell_type": "code",
      "metadata": {
        "id": "w5LPD7x4nuLd",
        "colab_type": "code",
        "colab": {
          "base_uri": "https://localhost:8080/",
          "height": 34
        },
        "outputId": "1927a636-a4e0-4481-815e-47a4ab456881"
      },
      "source": [
        "print('Attraction between the electron and two nucleis. Negative.')"
      ],
      "execution_count": 5,
      "outputs": [
        {
          "output_type": "stream",
          "text": [
            "Attraction between the electron and two nucleis. Negative.\n"
          ],
          "name": "stdout"
        }
      ]
    },
    {
      "cell_type": "markdown",
      "metadata": {
        "id": "7ApnmP7sea5k",
        "colab_type": "text"
      },
      "source": [
        "2.3.3 (3 pts) $$\\hat{v}_\\text{Coulomb}$$"
      ]
    },
    {
      "cell_type": "code",
      "metadata": {
        "id": "rAi93LTvn9y8",
        "colab_type": "code",
        "outputId": "31249d18-fb27-46e0-edd5-b3c20eaafd06",
        "colab": {
          "base_uri": "https://localhost:8080/",
          "height": 34
        }
      },
      "source": [
        "print('Classical repulsion between distinguishable electron \"clouds\". Positive.')"
      ],
      "execution_count": 6,
      "outputs": [
        {
          "output_type": "stream",
          "text": [
            "Classical repulsion between distinguishable electron \"clouds\". Positive.\n"
          ],
          "name": "stdout"
        }
      ]
    },
    {
      "cell_type": "markdown",
      "metadata": {
        "id": "NXGoNQvnea5n",
        "colab_type": "text"
      },
      "source": [
        "2.3.4 (3 pts) $$\\hat{v}_\\text{exchange}$$"
      ]
    },
    {
      "cell_type": "code",
      "metadata": {
        "id": "xjxXy6NHoNWz",
        "colab_type": "code",
        "outputId": "92412c9d-9be4-4165-84da-9ec368117e87",
        "colab": {
          "base_uri": "https://localhost:8080/",
          "height": 51
        }
      },
      "source": [
        "print('Accounts for electron indistinguishability (Pauli principle for fermions).')\n",
        "print('Decreases coulomb repulsion because electrons of like spin intrinsically avoid one another. Negative')"
      ],
      "execution_count": 7,
      "outputs": [
        {
          "output_type": "stream",
          "text": [
            "Accounts for electron indistinguishability (Pauli principle for fermions).\n",
            "Decreases coulomb repulsion because electrons of like spin intrinsically avoid one another. Negative\n"
          ],
          "name": "stdout"
        }
      ]
    },
    {
      "cell_type": "markdown",
      "metadata": {
        "id": "vQGoXyT1ea5o",
        "colab_type": "text"
      },
      "source": [
        "2.3.4 (3 pts) $$\\hat{v}_\\text{correlation}$$"
      ]
    },
    {
      "cell_type": "code",
      "metadata": {
        "id": "VO6W0HENpd5P",
        "colab_type": "code",
        "outputId": "92429a55-b281-4e38-d60e-16344916b621",
        "colab": {
          "base_uri": "https://localhost:8080/",
          "height": 34
        }
      },
      "source": [
        "print('Decrease in Coulomb repulsion due to dynamic ability of electrons to avoid one another; “fixes” orbital approximation. Negative.')"
      ],
      "execution_count": 8,
      "outputs": [
        {
          "output_type": "stream",
          "text": [
            "Decrease in Coulomb repulsion due to dynamic ability of electrons to avoid one another; “fixes” orbital approximation. Negative.\n"
          ],
          "name": "stdout"
        }
      ]
    },
    {
      "cell_type": "markdown",
      "metadata": {
        "id": "b33nRQN-ea5o",
        "colab_type": "text"
      },
      "source": [
        "2.4 (4 pts) Briefly, why do the electron wavefunctions have to be solved for \"self-consistently\"?\n"
      ]
    },
    {
      "cell_type": "markdown",
      "metadata": {
        "id": "DRsOkH2Qptke",
        "colab_type": "text"
      },
      "source": [
        "The wavefunction must already have the wavefunction's solution in order to be solved. Therefore, self-consistency provides a \"guess and check\" method to solve for the wavefunction."
      ]
    },
    {
      "cell_type": "markdown",
      "metadata": {
        "id": "KGeQEgGOea5p",
        "colab_type": "text"
      },
      "source": [
        "2.5 (4 pts) Briefly, how might the *variational principle* be helpful in solving the Schrödinger equation?"
      ]
    },
    {
      "cell_type": "markdown",
      "metadata": {
        "id": "wyoRvA93rAs6",
        "colab_type": "text"
      },
      "source": [
        "The variational principle guarantees that the expectation value of the energy of a guessed wavefunction is allows greater than that of the true lowest energy solution.\n",
        "$$\\langle ψ_\\text{trial}^λ | \\hat{H} | ψ_\\text{trial}^λ\\rangle =E_\\text{trial}^λ \\geq E_0$$\n",
        "\n",
        "The strategy of the variational principle is to use a problem we can solve to approximate a problem we can't.It is one way of finding approximations to the lowest energy states.\n"
      ]
    },
    {
      "cell_type": "markdown",
      "metadata": {
        "id": "TOrgVqZxea5p",
        "colab_type": "text"
      },
      "source": [
        "2.6 (4 pts)  On the graph below, approximately sketch the potential energy (attraction to the two nuclei, A and B) felt by an electron  along the axis connecting the two nuclei. (*Hint*: Which term from Equation 2.3 does this correspond to?)"
      ]
    },
    {
      "cell_type": "markdown",
      "metadata": {
        "id": "Ad7Xuesiea5p",
        "colab_type": "text"
      },
      "source": [
        "![HH](https://github.com/wmfschneider/CHE30324/blob/master/Exams/imgs/HH2.png?raw=1)"
      ]
    },
    {
      "cell_type": "markdown",
      "metadata": {
        "id": "cIof_FJuJJxY",
        "colab_type": "text"
      },
      "source": [
        "![](https://github.com/wge1231/P-Chem//raw/master/2.6.png)"
      ]
    },
    {
      "cell_type": "markdown",
      "metadata": {
        "id": "IgSRLdsqea5q",
        "colab_type": "text"
      },
      "source": [
        "2.7 (8 pts)  Let's call the lowest energy solution to the H$_2$ Schrödinger equation $\\psi_1$. On the graph below, sketch the approximate value of $\\psi_1$ along the internuclear axis.  Indicate the location of any nodes, the most probable location(s) of an electron along this axis, and the average location of an electron along this axis. (No calculations required!)"
      ]
    },
    {
      "cell_type": "markdown",
      "metadata": {
        "id": "YJaN-rsDea5q",
        "colab_type": "text"
      },
      "source": [
        "![HH](https://github.com/wmfschneider/CHE30324/blob/master/Exams/imgs/HH2.png?raw=1)"
      ]
    },
    {
      "cell_type": "markdown",
      "metadata": {
        "id": "8ioNcOrTKMpO",
        "colab_type": "text"
      },
      "source": [
        "![](https://github.com/wge1231/P-Chem//raw/master/2.7.png)"
      ]
    },
    {
      "cell_type": "markdown",
      "metadata": {
        "id": "F_oICdMqea5r",
        "colab_type": "text"
      },
      "source": [
        "2.8 (4 pts) What else, other than the quantities expressed in equation 2.3, contribute to the total internal  energy of an H$_2$ molecule at 0 K? There are two answers; bonus points for identifying both!"
      ]
    },
    {
      "cell_type": "markdown",
      "metadata": {
        "id": "9_EyFbsNw5A4",
        "colab_type": "text"
      },
      "source": [
        "1) Repulsion between the two nucleis.\n",
        "2) Zero point energy.\n",
        "3) Bond energy."
      ]
    },
    {
      "cell_type": "markdown",
      "metadata": {
        "id": "kBV3NyTaea5u",
        "colab_type": "text"
      },
      "source": [
        "2.9 (8 pts) On the graph below, approximately sketch the H$_2$ total energy vs interatomic distance. Indicate on the graph the equilibrium internuclear distance ($R_e$), the bond dissociation energy ($\\Delta E(0)$), and the zero point vibrational energy.  Remember to properly label both axes, including appropriate units."
      ]
    },
    {
      "cell_type": "markdown",
      "metadata": {
        "id": "UZAo40M9ea5v",
        "colab_type": "text"
      },
      "source": [
        "![T](https://github.com/wmfschneider/CHE30324/blob/master/Exams/imgs/T.png?raw=1)"
      ]
    },
    {
      "cell_type": "markdown",
      "metadata": {
        "id": "z7JiBy4DKjX_",
        "colab_type": "text"
      },
      "source": [
        "![](https://github.com/wge1231/P-Chem//raw/master/2.9.png)"
      ]
    },
    {
      "cell_type": "markdown",
      "metadata": {
        "id": "frP3QV2xea5w",
        "colab_type": "text"
      },
      "source": [
        "## 3. Energy, entropy, temperature (32 pts)"
      ]
    },
    {
      "cell_type": "markdown",
      "metadata": {
        "id": "hmblRfCaea5w",
        "colab_type": "text"
      },
      "source": [
        "Consider a box that contains six distinguishable marbles, each of which can exist in one of two energy states, 0 or $\\varepsilon$."
      ]
    },
    {
      "cell_type": "markdown",
      "metadata": {
        "id": "vTqo_5uzea5y",
        "colab_type": "text"
      },
      "source": [
        "3.1 (7 pts) Suppose the box is isolated, surrounded by adiabatic walls. Complete the table below for the possible internal energy states $U$, their degeneracies, and corresponding entropies of the box:\n",
        "\n",
        "| $U/ \\varepsilon $ | $\\Omega$ | $S/k_B$ |\n",
        "|------------------|----------|---------|\n",
        "| 0| 1|$\\ln 1 = 0$ |\n",
        "| 1| 6|$\\ln 6 = 1.79 $|\n",
        "|2 | 15|$\\ln 15 = 2.71 $ |\n",
        "| 3| 20|$\\ln 20 = 3.00 $|\n",
        "|4 | 15|$\\ln 15 = 2.71 $ |\n",
        "| 5| 6|$\\ln 6 = 1.79 $|\n",
        "| 6| 1|$\\ln 1 = 0$ |\n"
      ]
    },
    {
      "cell_type": "markdown",
      "metadata": {
        "id": "eZwzOdX1ea5y",
        "colab_type": "text"
      },
      "source": [
        "3.2 (1 pt) What value of $U$ maximizes the entropy of the box?"
      ]
    },
    {
      "cell_type": "markdown",
      "metadata": {
        "id": "e8XyHi_pC9Ds",
        "colab_type": "text"
      },
      "source": [
        "The entropy of the box reaches the maximum at U equals to 3 $\\varepsilon $."
      ]
    },
    {
      "cell_type": "markdown",
      "metadata": {
        "id": "kSnjB6vnea50",
        "colab_type": "text"
      },
      "source": [
        "3.3 (8 pts) Imagine this box is put into thermal equilibrium with some big reservoir of temperature $T$. Write down the partition function $Q(N,T)$ for the box as a function of $\\beta=1/k_B T $."
      ]
    },
    {
      "cell_type": "markdown",
      "metadata": {
        "id": "CvKPetMuyZ3f",
        "colab_type": "text"
      },
      "source": [
        "$Q= q^N = (1 + e^{-\\beta\\varepsilon})^N$"
      ]
    },
    {
      "cell_type": "markdown",
      "metadata": {
        "id": "1D2U7jPfea50",
        "colab_type": "text"
      },
      "source": [
        "3.4 (8 pts)  Write down an expression for the internal energy $U$ of the box as a function of $\\beta = 1/k_B T$."
      ]
    },
    {
      "cell_type": "markdown",
      "metadata": {
        "id": "SH1jneUX1ID-",
        "colab_type": "text"
      },
      "source": [
        "$\\left<U\\right> = -\\left(\\frac{dlnQ}{d\\beta}\\right) = -\\frac{N}{q}\\left(\\frac{dq}{d\\beta}\\right) = -\\frac{N}{q}\\frac{d(1 + e^{-\\beta\\varepsilon})}{d\\beta} = \\frac{N\\varepsilon e^{-\\beta\\varepsilon}}{1 + e^{-\\beta\\varepsilon}},$ "
      ]
    },
    {
      "cell_type": "markdown",
      "metadata": {
        "id": "4yU7YzRXea51",
        "colab_type": "text"
      },
      "source": [
        "3.5 (4 pts) What is the internal energy of the box in the limit that $\\beta\\rightarrow 0$, ie $T\\rightarrow\\infty$?"
      ]
    },
    {
      "cell_type": "markdown",
      "metadata": {
        "id": "vqM0C5FO2LhY",
        "colab_type": "text"
      },
      "source": [
        "$<U> = \\frac{N \\varepsilon}{2} = 3\\varepsilon$ in the limit that $\\beta\\rightarrow 0$"
      ]
    },
    {
      "cell_type": "markdown",
      "metadata": {
        "id": "YIiFB-jhea51",
        "colab_type": "text"
      },
      "source": [
        "3.6 (4 pts) From the results of question 3.1, what is the entropy of the box in the limit that $\\beta\\rightarrow 0$, ie $T\\rightarrow\\infty$?"
      ]
    },
    {
      "cell_type": "markdown",
      "metadata": {
        "id": "gX7R843e3Ed7",
        "colab_type": "text"
      },
      "source": [
        "The entropy is $3k_B$ in the limit that $\\beta\\rightarrow 0$\n",
        "\n"
      ]
    }
  ]
}